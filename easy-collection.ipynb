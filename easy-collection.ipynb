{
 "cells": [
  {
   "cell_type": "markdown",
   "metadata": {},
   "source": [
    "# Top Interview Questions"
   ]
  },
  {
   "cell_type": "markdown",
   "metadata": {},
   "source": [
    "### Arrays"
   ]
  },
  {
   "cell_type": "markdown",
   "metadata": {},
   "source": [
    "#### 1. Remove Duplicates from Sorted Array\n",
    "See [resource](https://leetcode.com/explore/interview/card/top-interview-questions-easy/92/array/727/)\n",
    "\n",
    "Given a sorted array nums, remove the duplicates in-place such that each element appears only once and returns the new length.\n",
    "Do not allocate extra space for another array, you must do this by modifying the input array in-place with O(1) extra memory.\n"
   ]
  },
  {
   "cell_type": "markdown",
   "metadata": {},
   "source": [
    "Example 1:\n",
    "```\n",
    "Input: nums = [1,1,2]\n",
    "Output: 2, nums = [1,2]\n",
    "Explanation: Your function should return length = 2, with the first two elements of nums being 1 and 2 respectively. It doesn't matter what you leave beyond the returned length.\n",
    "```\n",
    "\n",
    "Example 2:\n",
    "```\n",
    "Input: nums = [0,0,1,1,1,2,2,3,3,4]\n",
    "Output: 5, nums = [0,1,2,3,4]\n",
    "Explanation: Your function should return length = 5, with the first five elements of nums being modified to 0, 1, 2, 3, and 4 respectively. It doesn't matter what values are set beyond the returned length.\n",
    "```\n",
    "\n",
    "Constraints:\n",
    "```\n",
    "0 <= nums.length <= 3 * 104\n",
    "-104 <= nums[i] <= 104\n",
    "nums is sorted in ascending order.\n",
    "```\n",
    "\n"
   ]
  },
  {
   "cell_type": "code",
   "execution_count": 1,
   "metadata": {},
   "outputs": [],
   "source": [
    "class Solution(object):\n",
    "    def removeDuplicates(self, nums):\n",
    "        \"\"\"\n",
    "        :type nums: List[int]\n",
    "        :rtype: int\n",
    "        \"\"\"\n",
    "        range_loop = len(nums)\n",
    "        i=0\n",
    "\n",
    "        while i < range_loop:\n",
    "            if i + 1 < range_loop:\n",
    "                #print('compare: position=>value {}=>{} with {}=>{}'.format(i, nums[i], i+1, nums[i+1]))\n",
    "                if nums[i+1] == nums[i]:\n",
    "                    #print('found same number / removing it')\n",
    "                    nums.pop(i+1)\n",
    "                    range_loop = len(nums)\n",
    "                    #print('Updated array size: {}'.format(range_loop))\n",
    "                else:\n",
    "                    #print('next number is higher / keepign it')\n",
    "                    i+=1\n",
    "            else:\n",
    "                break\n",
    "        return len(nums)\n",
    "                "
   ]
  },
  {
   "cell_type": "code",
   "execution_count": 2,
   "metadata": {},
   "outputs": [
    {
     "name": "stdout",
     "output_type": "stream",
     "text": [
      "length: 2\n",
      "num: [1, 2]\n"
     ]
    }
   ],
   "source": [
    "solution = Solution()\n",
    "nums1 = [1,1,2]\n",
    "\n",
    "print('length: {}'.format(solution.removeDuplicates(nums1)))\n",
    "print('num: {}'.format(nums1))"
   ]
  },
  {
   "cell_type": "code",
   "execution_count": 3,
   "metadata": {},
   "outputs": [
    {
     "name": "stdout",
     "output_type": "stream",
     "text": [
      "length: 5\n",
      "num: [0, 1, 2, 3, 4]\n"
     ]
    }
   ],
   "source": [
    "nums2 = [0,0,1,1,1,2,2,3,3,4]\n",
    "#solution.removeDuplicates(nums2)\n",
    "\n",
    "print('length: {}'.format(solution.removeDuplicates(nums2)))\n",
    "print('num: {}'.format(nums2))"
   ]
  },
  {
   "cell_type": "code",
   "execution_count": 4,
   "metadata": {},
   "outputs": [
    {
     "data": {
      "text/plain": [
       "[1, 4, 7, 10]"
      ]
     },
     "execution_count": 4,
     "metadata": {},
     "output_type": "execute_result"
    }
   ],
   "source": [
    "thelist=[1,2,3,4,5,6,7,8,9,10]\n",
    "[x for i, x in enumerate(thelist) if i%3 == 0]"
   ]
  },
  {
   "cell_type": "code",
   "execution_count": 6,
   "metadata": {},
   "outputs": [
    {
     "name": "stdout",
     "output_type": "stream",
     "text": [
      "1\n",
      "2\n",
      "3\n",
      "4\n",
      "5\n",
      "6\n",
      "7\n",
      "8\n",
      "9\n",
      "10\n"
     ]
    }
   ],
   "source": [
    "for i, x in enumerate(thelist):\n",
    "    print(x)"
   ]
  },
  {
   "cell_type": "code",
   "execution_count": 16,
   "metadata": {},
   "outputs": [
    {
     "name": "stdout",
     "output_type": "stream",
     "text": [
      "-80.0\n"
     ]
    }
   ],
   "source": [
    "def percent(x1, x2):\n",
    "    '''returns the percent change between x1 and x2\n",
    "    '''\n",
    "    return (x2-x1)/x1 * 100\n",
    "\n",
    "print(percent(10,2))"
   ]
  },
  {
   "cell_type": "code",
   "execution_count": 28,
   "metadata": {},
   "outputs": [
    {
     "name": "stdout",
     "output_type": "stream",
     "text": [
      "[0, 1, 3, 4, 9]\n"
     ]
    }
   ],
   "source": [
    "unsorted_list = [3, 1, 0, 9, 4]\n",
    "sorted_list = []\n",
    "\n",
    "while unsorted_list:\n",
    "    minimum = unsorted_list[0]\n",
    "    for item in unsorted_list:\n",
    "        if item < minimum:\n",
    "            minimum = item\n",
    "    sorted_list.append(minimum)\n",
    "    unsorted_list.remove(minimum)\n",
    "\n",
    "print(sorted_list)"
   ]
  },
  {
   "cell_type": "code",
   "execution_count": 27,
   "metadata": {},
   "outputs": [
    {
     "name": "stdout",
     "output_type": "stream",
     "text": [
      "[1, 2, 3, 5, 5, 9]\n"
     ]
    }
   ],
   "source": [
    "def sort_list(mylist):\n",
    "    '''returns a sorted list\n",
    "    '''\n",
    "    return sorted(mylist)\n",
    "\n",
    "print(sort_list([1,5,3,9,5,2]))\n"
   ]
  },
  {
   "cell_type": "code",
   "execution_count": 31,
   "metadata": {},
   "outputs": [
    {
     "name": "stdout",
     "output_type": "stream",
     "text": [
      "[2, 3, 4, 5, 6, 7]\n"
     ]
    }
   ],
   "source": [
    "def insertion_sort(x):\n",
    "    for i in range(len(x)):\n",
    "        selection = x[i]\n",
    "        position = i\n",
    "\n",
    "        while position > 0 and x[position - 1] > selection:\n",
    "            x[position] = x[position - 1]\n",
    "            position = position - 1\n",
    "\n",
    "        x[position] = selection\n",
    "\n",
    "    return(x)\n",
    "\n",
    "my_test_list = [5,7,3,2,4,6]\n",
    "print(insertion_sort(my_test_list))"
   ]
  },
  {
   "cell_type": "code",
   "execution_count": 32,
   "metadata": {},
   "outputs": [
    {
     "name": "stdout",
     "output_type": "stream",
     "text": [
      "[-64, -26, -15, 1, 15, 23, 23, 76]\n"
     ]
    }
   ],
   "source": [
    "my_list = [-15, -26, 15, 1, 23, -64, 23, 76]\n",
    "new_list = []\n",
    "\n",
    "while my_list:\n",
    "    min = my_list[0]  \n",
    "    for x in my_list: \n",
    "        if x < min:\n",
    "            min = x\n",
    "    new_list.append(min)\n",
    "    my_list.remove(min)    \n",
    "\n",
    "print(new_list)"
   ]
  },
  {
   "cell_type": "code",
   "execution_count": 42,
   "metadata": {},
   "outputs": [
    {
     "name": "stdout",
     "output_type": "stream",
     "text": [
      "[2, 3, 4, 5, 8]\n",
      "Test 1\n",
      "binary_search loop: [2, 3, 4, 5, 8]\n",
      " - mid: 2\n",
      "binary_search loop: [2, 3]\n",
      " - mid: 1\n",
      "binary_search loop: [2]\n",
      " - mid: 0\n",
      "True\n",
      "Test 2\n",
      "binary_search loop: [2, 3, 4, 5, 8]\n",
      " - mid: 2\n",
      "binary_search loop: [5, 8]\n",
      " - mid: 1\n",
      "binary_search loop: [5]\n",
      " - mid: 0\n",
      "binary_search loop: []\n",
      "False\n"
     ]
    }
   ],
   "source": [
    "def binary_search(x, search_item):\n",
    "    print('binary_search loop: {}'.format(x))\n",
    "    if len(x) == 0:\n",
    "          return False\n",
    "    mid = len(x) // 2\n",
    "    print(' - mid: {}'.format(mid))\n",
    "    if x[mid] == search_item:\n",
    "        return True\n",
    "    if search_item < x[mid]:\n",
    "        return binary_search(x[:mid], search_item)\n",
    "    else:\n",
    "        return binary_search(x[mid + 1 :], search_item)\n",
    "\n",
    "a_list = [2,3,4,5,8]\n",
    "print(a_list)\n",
    "print('Test 1')\n",
    "print(binary_search(a_list, 2))\n",
    "print('Test 2')\n",
    "print(binary_search(a_list, 7))\n"
   ]
  },
  {
   "cell_type": "code",
   "execution_count": 44,
   "metadata": {},
   "outputs": [
    {
     "name": "stdout",
     "output_type": "stream",
     "text": [
      "True\n",
      "False\n",
      "True\n",
      "True\n"
     ]
    }
   ],
   "source": [
    "def is_palyndrome(mystring):\n",
    "    '''function that returns true if the input string is a palindrome\n",
    "    '''\n",
    "    return mystring == mystring[::-1]\n",
    "\n",
    "print(is_palyndrome('a'))\n",
    "print(is_palyndrome('ab'))\n",
    "print(is_palyndrome('aba'))\n",
    "print(is_palyndrome('abba'))\n"
   ]
  },
  {
   "cell_type": "code",
   "execution_count": 53,
   "metadata": {},
   "outputs": [],
   "source": [
    "def is_palindrome(mystring):\n",
    "    start = 0\n",
    "    end = len(mystring)-1\n",
    "    for i in range(len(mystring) // 2):\n",
    "        if mystring[i] == mystring[end]:\n",
    "            end -= 1\n",
    "            continue\n",
    "        else:\n",
    "            return False\n",
    "    return True\n",
    "assert is_palindrome('a')== True\n",
    "assert is_palindrome('ab')== False\n",
    "assert is_palindrome('aba') == True\n",
    "assert is_palindrome('abba') == True\n",
    "assert is_palindrome('abcba') == True\n",
    "assert is_palindrome('abbba') == True"
   ]
  },
  {
   "cell_type": "code",
   "execution_count": null,
   "metadata": {},
   "outputs": [],
   "source": []
  }
 ],
 "metadata": {
  "kernelspec": {
   "display_name": "Python 3",
   "language": "python",
   "name": "python3"
  },
  "language_info": {
   "codemirror_mode": {
    "name": "ipython",
    "version": 3
   },
   "file_extension": ".py",
   "mimetype": "text/x-python",
   "name": "python",
   "nbconvert_exporter": "python",
   "pygments_lexer": "ipython3",
   "version": "3.8.3"
  }
 },
 "nbformat": 4,
 "nbformat_minor": 4
}

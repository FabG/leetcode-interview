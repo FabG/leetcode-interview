{
 "cells": [
  {
   "cell_type": "markdown",
   "metadata": {},
   "source": [
    "# Remove Duplicates from Sorted Array\n",
    "See [resource](https://leetcode.com/explore/interview/card/top-interview-questions-easy/92/array/727/)\n",
    "\n",
    "Given a sorted array nums, remove the duplicates in-place such that each element appears only once and returns the new length.\n",
    "Do not allocate extra space for another array, you must do this by modifying the input array in-place with O(1) extra memory.\n"
   ]
  },
  {
   "cell_type": "markdown",
   "metadata": {},
   "source": [
    "Example 1:\n",
    "```\n",
    "Input: nums = [1,1,2]\n",
    "Output: 2, nums = [1,2]\n",
    "Explanation: Your function should return length = 2, with the first two elements of nums being 1 and 2 respectively. It doesn't matter what you leave beyond the returned length.\n",
    "```\n",
    "\n",
    "Example 2:\n",
    "```\n",
    "Input: nums = [0,0,1,1,1,2,2,3,3,4]\n",
    "Output: 5, nums = [0,1,2,3,4]\n",
    "Explanation: Your function should return length = 5, with the first five elements of nums being modified to 0, 1, 2, 3, and 4 respectively. It doesn't matter what values are set beyond the returned length.\n",
    "```\n",
    "\n",
    "Constraints:\n",
    "```\n",
    "0 <= nums.length <= 3 * 104\n",
    "-104 <= nums[i] <= 104\n",
    "nums is sorted in ascending order.\n",
    "```\n",
    "\n"
   ]
  },
  {
   "cell_type": "code",
   "execution_count": 1,
   "metadata": {},
   "outputs": [],
   "source": [
    "class Solution(object):\n",
    "    def removeDuplicates(self, nums):\n",
    "        \"\"\"\n",
    "        :type nums: List[int]\n",
    "        :rtype: int\n",
    "        \"\"\"\n",
    "        range_loop = len(nums)\n",
    "        i=0\n",
    "\n",
    "        while i < range_loop:\n",
    "            if i + 1 < range_loop:\n",
    "                #print('compare: position=>value {}=>{} with {}=>{}'.format(i, nums[i], i+1, nums[i+1]))\n",
    "                if nums[i+1] == nums[i]:\n",
    "                    #print('found same number / removing it')\n",
    "                    nums.pop(i+1)\n",
    "                    range_loop = len(nums)\n",
    "                    #print('Updated array size: {}'.format(range_loop))\n",
    "                else:\n",
    "                    #print('next number is higher / keepign it')\n",
    "                    i+=1\n",
    "            else:\n",
    "                break\n",
    "        return len(nums)\n",
    "                "
   ]
  },
  {
   "cell_type": "code",
   "execution_count": 2,
   "metadata": {},
   "outputs": [
    {
     "name": "stdout",
     "output_type": "stream",
     "text": [
      "length: 2\n",
      "num: [1, 2]\n"
     ]
    }
   ],
   "source": [
    "solution = Solution()\n",
    "nums1 = [1,1,2]\n",
    "\n",
    "print('length: {}'.format(solution.removeDuplicates(nums1)))\n",
    "print('num: {}'.format(nums1))"
   ]
  },
  {
   "cell_type": "code",
   "execution_count": 3,
   "metadata": {},
   "outputs": [
    {
     "name": "stdout",
     "output_type": "stream",
     "text": [
      "length: 5\n",
      "num: [0, 1, 2, 3, 4]\n"
     ]
    }
   ],
   "source": [
    "nums2 = [0,0,1,1,1,2,2,3,3,4]\n",
    "#solution.removeDuplicates(nums2)\n",
    "\n",
    "print('length: {}'.format(solution.removeDuplicates(nums2)))\n",
    "print('num: {}'.format(nums2))"
   ]
  },
  {
   "cell_type": "code",
   "execution_count": null,
   "metadata": {},
   "outputs": [],
   "source": []
  },
  {
   "cell_type": "code",
   "execution_count": null,
   "metadata": {},
   "outputs": [],
   "source": []
  }
 ],
 "metadata": {
  "kernelspec": {
   "display_name": "Python 3",
   "language": "python",
   "name": "python3"
  },
  "language_info": {
   "codemirror_mode": {
    "name": "ipython",
    "version": 3
   },
   "file_extension": ".py",
   "mimetype": "text/x-python",
   "name": "python",
   "nbconvert_exporter": "python",
   "pygments_lexer": "ipython3",
   "version": "3.8.3"
  }
 },
 "nbformat": 4,
 "nbformat_minor": 4
}

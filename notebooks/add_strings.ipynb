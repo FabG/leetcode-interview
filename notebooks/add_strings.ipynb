{
 "cells": [
  {
   "cell_type": "markdown",
   "metadata": {},
   "source": [
    "# Add Strings\n",
    "\n",
    "Given two non-negative integers, `num1` and `num2` represented as string, return the sum of num1 and num2 as a string.\n",
    "You must solve the problem without using any built-in library for handling large integers (such as BigInteger). \n",
    "\n",
    "You must also not convert the inputs to integers directly.\n",
    "\n",
    " \n",
    "\n",
    "Example 1:\n",
    "```\n",
    "Input: num1 = \"11\", num2 = \"123\"\n",
    "Output: \"134\"\n",
    "```\n",
    "\n",
    "Example 2:\n",
    "\n",
    "```\n",
    "Input: num1 = \"456\", num2 = \"77\"\n",
    "Output: \"533\"\n",
    "```\n",
    "\n",
    "Example 3:\n",
    "\n",
    "```\n",
    "Input: num1 = \"0\", num2 = \"0\"\n",
    "Output: \"0\"\n",
    "```"
   ]
  },
  {
   "cell_type": "markdown",
   "metadata": {},
   "source": [
    "Here we have two strings as input and asked not to convert them to integers. Digit-by-digit addition is the only option here.\n"
   ]
  },
  {
   "cell_type": "code",
   "execution_count": 6,
   "metadata": {},
   "outputs": [],
   "source": [
    "class Solution(object):\n",
    "    def addStrings(self, num1, num2):\n",
    "        \"\"\"\n",
    "        :type num1: str\n",
    "        :type num2: str\n",
    "        :rtype: str\n",
    "        \"\"\"\n",
    "        \n",
    "        # do digit by digit sum\n",
    "        carry = 0\n",
    "        res = []\n",
    "        num_sum = 0\n",
    "        \n",
    "        if len(num1) >= len(num2):\n",
    "            largest_num_digits = [int(char) for char in num1]\n",
    "            lowest_num_digits = [int(char) for char in num2]\n",
    "        else:\n",
    "            largest_num_digits = [int(char) for char in num2]\n",
    "            lowest_num_digits = [int(char) for char in num1]\n",
    "            \n",
    "        largest_num_digits.reverse()\n",
    "        lowest_num_digits.reverse()\n",
    "        print(largest_num_digits, lowest_num_digits)\n",
    "        \n",
    "        for i in range(len(largest_num_digits)):\n",
    "            first_num = largest_num_digits[i]\n",
    "            if len(lowest_num_digits) > i:\n",
    "                second_num = lowest_num_digits[i]\n",
    "            else:\n",
    "                second_num = 0\n",
    "                \n",
    "            #print(first_num, second_num)   \n",
    "            \n",
    "            num_sum = first_num + second_num + carry\n",
    "            if carry == 1:\n",
    "                carry = 0\n",
    "                \n",
    "            if num_sum >= 10:\n",
    "                num_sum = num_sum - 10\n",
    "                carry = 1\n",
    "            #print(num_sum, carry)   \n",
    "\n",
    "            res.append(num_sum)\n",
    "        \n",
    "        if carry == 1:\n",
    "            res.append(carry)\n",
    "            \n",
    "        res.reverse()\n",
    "        string_sum = ''.join(str(e) for e in res)\n",
    "        \n",
    "        print(string_sum)\n",
    "        return string_sum\n",
    "            \n",
    "        "
   ]
  },
  {
   "cell_type": "code",
   "execution_count": 7,
   "metadata": {},
   "outputs": [
    {
     "name": "stdout",
     "output_type": "stream",
     "text": [
      "[3, 2, 1] [1, 1]\n",
      "134\n"
     ]
    }
   ],
   "source": [
    "sol = Solution()\n",
    "assert(sol.addStrings('11', '123') == '134')"
   ]
  },
  {
   "cell_type": "code",
   "execution_count": null,
   "metadata": {},
   "outputs": [],
   "source": []
  }
 ],
 "metadata": {
  "kernelspec": {
   "display_name": "Python 3",
   "language": "python",
   "name": "python3"
  },
  "language_info": {
   "codemirror_mode": {
    "name": "ipython",
    "version": 3
   },
   "file_extension": ".py",
   "mimetype": "text/x-python",
   "name": "python",
   "nbconvert_exporter": "python",
   "pygments_lexer": "ipython3",
   "version": "3.8.3"
  }
 },
 "nbformat": 4,
 "nbformat_minor": 4
}

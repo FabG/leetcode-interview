{
 "cells": [
  {
   "cell_type": "markdown",
   "metadata": {},
   "source": [
    "# Reverse a String"
   ]
  },
  {
   "cell_type": "markdown",
   "metadata": {},
   "source": [
    "### 1 - using a loop"
   ]
  },
  {
   "cell_type": "code",
   "execution_count": 13,
   "metadata": {},
   "outputs": [],
   "source": [
    "# Python code to reverse a string\n",
    "# To note strings are immutable, so we will create a new string\n",
    "\n",
    "def reverse(s):\n",
    "    str = \"\"\n",
    "    for i in s:\n",
    "        str = i + str\n",
    "        #print(i)\n",
    "        #print(str)\n",
    "    return str\n"
   ]
  },
  {
   "cell_type": "code",
   "execution_count": 2,
   "metadata": {},
   "outputs": [
    {
     "name": "stdout",
     "output_type": "stream",
     "text": [
      "The original string is : ABCDEF\n",
      "The reversed string(using loops) is : FEDCBA\n"
     ]
    }
   ],
   "source": [
    "s = \"ABCDEF\"\n",
    "\n",
    "print (\"The original string is : \",end=\"\")\n",
    "print (s)\n",
    "\n",
    "print (\"The reversed string(using loops) is : \",end=\"\")\n",
    "print (reverse(s))"
   ]
  },
  {
   "cell_type": "markdown",
   "metadata": {},
   "source": [
    "### 2 - Using recursion"
   ]
  },
  {
   "cell_type": "code",
   "execution_count": 3,
   "metadata": {},
   "outputs": [],
   "source": [
    "def reverse_rec(list_s, low, high):\n",
    "    \n",
    "    if low == high:\n",
    "        print('TEST - list_s: {}'.format(list_s))\n",
    "        return\n",
    "    \n",
    "    list_low = low\n",
    "    list_high = high\n",
    "\n",
    "    list_s[list_low], list_s[list_high] = list_s[list_high], list_s[list_low]\n",
    "    list_low += 1\n",
    "    list_high -= 1\n",
    "\n",
    "    reverse_rec(list_s, list_low, list_high)\n",
    "    \n",
    "\n",
    "def reverse(s):\n",
    "    # Strings are immutable so using a list instead\n",
    "    list_s = []\n",
    "    for i in range(0, len(s)):\n",
    "        list_s.append(s[i])\n",
    "    #print('TEST - list_s: {}'.format(list_s))\n",
    "    reverse_rec(list_s, 0, len(s)-1)\n",
    "    #print(list_s)\n",
    "    return ''.join(list_s)\n"
   ]
  },
  {
   "cell_type": "code",
   "execution_count": 4,
   "metadata": {},
   "outputs": [
    {
     "name": "stdout",
     "output_type": "stream",
     "text": [
      "TEST - list_s: ['E', 'D', 'C', 'B', 'A']\n",
      "EDCBA\n"
     ]
    }
   ],
   "source": [
    "revert_string = ''\n",
    "revert_string = reverse('ABCDE')\n",
    "print(revert_string)\n"
   ]
  },
  {
   "cell_type": "markdown",
   "metadata": {},
   "source": [
    "### 2.1 Using recursion - even leaner\n",
    "\n",
    "In the below code, string is passed as an argument to a recursive function to reverse the string. \n",
    "\n",
    "In the function, the base condition is that if the length of the string is equal to 0, the string is returned. \n",
    "If not equal to 0, the reverse function is recursively called to **slice** the part of the string except the first character and concatenate the first character to the end of the sliced string.\n"
   ]
  },
  {
   "cell_type": "code",
   "execution_count": 5,
   "metadata": {},
   "outputs": [],
   "source": [
    "# Python code to reverse a string\n",
    "# using recursion\n",
    "\n",
    "def reverse2(s):\n",
    "    if len(s) == 0:\n",
    "        return s\n",
    "    else:\n",
    "        return reverse(s[1:]) + s[0]\n"
   ]
  },
  {
   "cell_type": "code",
   "execution_count": 6,
   "metadata": {},
   "outputs": [
    {
     "name": "stdout",
     "output_type": "stream",
     "text": [
      "The original string is : ABCDEF\n",
      "The reversed string(using loops) is : TEST - list_s: ['F', 'E', 'D', 'C', 'B']\n",
      "FEDCBA\n"
     ]
    }
   ],
   "source": [
    "s = \"ABCDEF\"\n",
    "\n",
    "print (\"The original string is : \",end=\"\")\n",
    "print (s)\n",
    "\n",
    "print (\"The reversed string(using loops) is : \",end=\"\")\n",
    "print (reverse2(s))"
   ]
  },
  {
   "cell_type": "code",
   "execution_count": 7,
   "metadata": {},
   "outputs": [
    {
     "data": {
      "text/plain": [
       "'BCDEF'"
      ]
     },
     "execution_count": 7,
     "metadata": {},
     "output_type": "execute_result"
    }
   ],
   "source": [
    "s[1:]"
   ]
  },
  {
   "cell_type": "markdown",
   "metadata": {},
   "source": [
    "### 3 Using extended slyce syntax"
   ]
  },
  {
   "cell_type": "code",
   "execution_count": 8,
   "metadata": {},
   "outputs": [],
   "source": [
    "# Python code to reverse a string\n",
    "# using extended slice syntax\n",
    "\n",
    "# Function to reverse a string\n",
    "def reverse3(string):\n",
    "\tstring = string[::-1]\n",
    "\treturn string\n",
    "\n"
   ]
  },
  {
   "cell_type": "code",
   "execution_count": 9,
   "metadata": {},
   "outputs": [
    {
     "name": "stdout",
     "output_type": "stream",
     "text": [
      "The original string is : ABCDEF\n",
      "The reversed string(using loops) is : FEDCBA\n"
     ]
    }
   ],
   "source": [
    "s = \"ABCDEF\"\n",
    "\n",
    "print (\"The original string is : \",end=\"\")\n",
    "print (s)\n",
    "\n",
    "print (\"The reversed string(using loops) is : \",end=\"\")\n",
    "print (reverse3(s))"
   ]
  },
  {
   "cell_type": "code",
   "execution_count": 10,
   "metadata": {},
   "outputs": [
    {
     "data": {
      "text/plain": [
       "'FEDCBA'"
      ]
     },
     "execution_count": 10,
     "metadata": {},
     "output_type": "execute_result"
    }
   ],
   "source": [
    "s[::-1]"
   ]
  },
  {
   "cell_type": "markdown",
   "metadata": {},
   "source": [
    "### 4 Using reversed"
   ]
  },
  {
   "cell_type": "code",
   "execution_count": 11,
   "metadata": {},
   "outputs": [],
   "source": [
    "# Python code to reverse a string\n",
    "# using reversed()\n",
    "\n",
    "# Function to reverse a string\n",
    "def reverse4(string):\n",
    "\tstring = \"\".join(reversed(string))\n",
    "\treturn string\n"
   ]
  },
  {
   "cell_type": "code",
   "execution_count": 12,
   "metadata": {},
   "outputs": [
    {
     "name": "stdout",
     "output_type": "stream",
     "text": [
      "The original string is : ABCDEF\n",
      "The reversed string(using loops) is : FEDCBA\n"
     ]
    }
   ],
   "source": [
    "s = \"ABCDEF\"\n",
    "\n",
    "print (\"The original string is : \",end=\"\")\n",
    "print (s)\n",
    "\n",
    "print (\"The reversed string(using loops) is : \",end=\"\")\n",
    "print (reverse4(s))"
   ]
  },
  {
   "cell_type": "code",
   "execution_count": null,
   "metadata": {},
   "outputs": [],
   "source": []
  }
 ],
 "metadata": {
  "kernelspec": {
   "display_name": "Python 3",
   "language": "python",
   "name": "python3"
  },
  "language_info": {
   "codemirror_mode": {
    "name": "ipython",
    "version": 3
   },
   "file_extension": ".py",
   "mimetype": "text/x-python",
   "name": "python",
   "nbconvert_exporter": "python",
   "pygments_lexer": "ipython3",
   "version": "3.8.3"
  }
 },
 "nbformat": 4,
 "nbformat_minor": 4
}
